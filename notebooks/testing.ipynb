{
 "cells": [
  {
   "cell_type": "code",
   "execution_count": 1,
   "metadata": {},
   "outputs": [],
   "source": [
    "import numpy as np\n",
    "import pandas as pd\n",
    "import matplotlib.pyplot as plt\n",
    "import networkx as nx\n",
    "import os\n",
    "import itertools\n",
    "import random\n",
    "import sys\n",
    "import powerlaw as pl\n",
    "sys.path.append('/Users/css/dev/thesis/selfish_mining_abm/selfish_mining_abm')\n",
    "import blockchain"
   ]
  },
  {
   "cell_type": "markdown",
   "metadata": {},
   "source": [
    "# config"
   ]
  },
  {
   "cell_type": "code",
   "execution_count": 3,
   "metadata": {},
   "outputs": [],
   "source": [
    "# PARAMETERS TO LOOP OVER\n",
    "alphas = np.linspace(0, 0.5, 3)\n",
    "alpha = 0.3\n",
    "# 1 minute equals 60'000 milliseconds.\n",
    "gammas = np.linspace(100, 500, 1) / 60000\n",
    "gamma = 0.1\n",
    "# number of repetitions to average results over\n",
    "repetitions = 1\n",
    "\n",
    "# Hand/pick selfish miners: \"RANDOM\", \"BETWEENNESS\"\n",
    "# centrality_measures = [\"RANDOM\", \"BETWEENNESS\"]\n",
    "centrality_measure = \"RANDOM\"\n",
    "\n",
    "# available topologogies: \"UNIFORM\", \"ER\", \"BA\"\n",
    "# topologies = [\"UNIFORM\", \"ER\", \"BA\"]\n",
    "topology = \"UNIFORM\"\n",
    "\n",
    "# available hashing power distributions: \"UNIFORM\", \"POWERLAW\", \"EXPONENTIAL\"\n",
    "# hash_distributions = [\"UNIFORM\", \"POWERLAW\", \"EXPONENTIAL\"]\n",
    "hash_distribution = \"UNIFORM\"\n",
    "\n",
    "# SPECFIY TOPOLOGY\n",
    "desired_avg_degree = 10  # applies to ER and RAND topology.\n",
    "ba_m = 5  # relevant for BA topology; no. edges to attach from new node to existing nodes\n",
    "\n",
    "# SPECIFY HASHING POWER DISTRIBUTION\n",
    "pl_alpha = 1.88  # input parameter for powerlaw distribution\n",
    "exp_lambda = 1  # input parameter for exponential distribution\n",
    "# ADDITIONAL PARAMETERS\n",
    "simulation_time = 1000\n",
    "number_of_nodes = 100\n",
    "number_selfish_nodes = 1  # if there is more than 1 selfish miner, they act as \"cartel\"\n",
    "number_honest_nodes = number_of_nodes - number_selfish_nodes\n",
    "verbose = False"
   ]
  },
  {
   "cell_type": "markdown",
   "metadata": {},
   "source": [
    "# Set up"
   ]
  },
  {
   "cell_type": "code",
   "execution_count": 4,
   "metadata": {},
   "outputs": [],
   "source": [
    "def set_up_topology(topology, number_of_nodes, desired_avg_degree, ba_m):\n",
    "    # generate network depending on topology parameter\n",
    "    if topology == \"UNIFORM\":\n",
    "        net_p2p = nx.random_degree_sequence_graph(\n",
    "            [desired_avg_degree for i in range(number_of_nodes)])\n",
    "\n",
    "    elif topology == \"ER\":\n",
    "        p = desired_avg_degree / number_of_nodes\n",
    "        net_p2p = nx.fast_gnp_random_graph(number_of_nodes, p)\n",
    "\n",
    "    elif topology == \"BA\":\n",
    "        net_p2p = nx.barabasi_albert_graph(number_of_nodes, ba_m)\n",
    "\n",
    "    # get largest connected component\n",
    "    lcc_set = max(nx.connected_components(net_p2p), key=len)\n",
    "    net_p2p = net_p2p.subgraph(lcc_set).copy()\n",
    "    # some nodes may have been removed because they were not port of the lcc.\n",
    "    # relabel nodes so that only nodes in lcc are labelled. (without it we run into problems where node labels are higher than the number of nodes -> loops run into indexing problems)\n",
    "    net_p2p = nx.convert_node_labels_to_integers(\n",
    "        net_p2p, first_label=0)\n",
    "\n",
    "    # some nodes may have been removed as they were not part of the lcc -> update num nodes\n",
    "    number_of_nodes = len(net_p2p)\n",
    "    # (brute-forcing number of selfish nodes to stay unchanged)\n",
    "    number_honest_nodes = number_of_nodes - number_selfish_nodes\n",
    "\n",
    "    return net_p2p, number_honest_nodes\n",
    "\n",
    "def set_up_hash_distr(net_p2p, centrality_measure, hash_distribution, number_selfish_nodes, number_honest_nodes, alpha):\n",
    "    # make sure that when there are no selfish nodes that alpha is never unequal 0. (in case you want to simulate only honest nodes)\n",
    "    assert not (number_selfish_nodes == 0 and alpha !=\n",
    "                0), \"Alpha unequal 0 with no selfish nodes\"\n",
    "\n",
    "    if hash_distribution == \"UNIFORM\":\n",
    "        hashing_power_selfish = np.random.random(number_selfish_nodes)\n",
    "        hashing_power_honest = np.random.random(number_honest_nodes)\n",
    "\n",
    "    elif hash_distribution == \"POWERLAW\":\n",
    "        power_distrib = pl.Power_Law(parameters=[pl_alpha], discrete=False)\n",
    "        hashing_power_selfish = power_distrib.generate_random(\n",
    "            number_selfish_nodes)\n",
    "        hashing_power_honest = power_distrib.generate_random(\n",
    "            number_honest_nodes)\n",
    "\n",
    "    elif hash_distribution == \"EXPONENTIAL\":\n",
    "        exp_distrib = pl.Exponential(parameters=[exp_lambda])\n",
    "        hashing_power_selfish = exp_distrib.generate_random(\n",
    "            number_selfish_nodes)\n",
    "        hashing_power_honest = exp_distrib.generate_random(\n",
    "            number_honest_nodes)\n",
    "\n",
    "    # normalize vector so that sum of selfish hashing power equals alpha & honest hashing power equals 1-alpha.\n",
    "    if number_selfish_nodes != 0:\n",
    "        hashing_power_selfish /= sum(hashing_power_selfish)\n",
    "        hashing_power_selfish *= alpha\n",
    "    hashing_power_honest /= sum(hashing_power_honest) / (1 - alpha)\n",
    "\n",
    "    # combine selfish and honest hashing power vectors together\n",
    "    hashing_power_unsorted = np.append(\n",
    "        hashing_power_selfish, hashing_power_honest)\n",
    "\n",
    "    if centrality_measure == \"RANDOM\":\n",
    "        # create an is_selfish vector that corresponds to the order of the hashing_power vector\n",
    "        is_selfish = np.append(np.ones(number_selfish_nodes),\n",
    "                                np.zeros(number_honest_nodes))\n",
    "\n",
    "        # finally, randomize is_selfish and hashing_power arrays in unison\n",
    "        randomize = np.arange(len(hashing_power_unsorted))\n",
    "        np.random.shuffle(randomize)\n",
    "        hashing_power = hashing_power_unsorted[randomize]\n",
    "        is_selfish = is_selfish[randomize]\n",
    "\n",
    "    elif centrality_measure == \"BETWEENNESS\":\n",
    "        # compute betweenness centrality and sort it\n",
    "        btwn = nx.betweenness_centrality(net_p2p)\n",
    "        btwn_sorted = {k: v for k, v in sorted(\n",
    "            btwn.items(), key=lambda item: item[1], reverse=True)}\n",
    "        # return node indeces sorted for betweenness centrality\n",
    "        btwn_sorted_indices = list(btwn_sorted.keys())\n",
    "\n",
    "        selfish_indices = list(btwn_sorted.keys())[:number_selfish_nodes]\n",
    "        honest_indices = list(btwn_sorted.keys())[\n",
    "            number_selfish_nodes:len(btwn)]\n",
    "\n",
    "        # set selifsh nodes according to betweenness centrality\n",
    "        is_selfish = np.zeros(number_honest_nodes+number_selfish_nodes)\n",
    "        for i in selfish_indices:\n",
    "            is_selfish[i] = 1\n",
    "\n",
    "        # sort hashing power vector so that selfish nodes are assigned correct hashing power\n",
    "        hashing_power = hashing_power_unsorted.copy()\n",
    "        for (index, value) in enumerate(btwn_sorted):\n",
    "            hashing_power[value] = hashing_power_unsorted[index]\n",
    "\n",
    "    return hashing_power, is_selfish\n",
    "\n",
    "def set_up_model(\n",
    "    centrality_measure, topology, hash_distribution, number_of_nodes, number_selfish_nodes, alpha, desired_avg_degree, ba_m\n",
    "):\n",
    "    net_p2p, number_honest_nodes = set_up_topology(\n",
    "        topology, number_of_nodes, desired_avg_degree, ba_m)\n",
    "\n",
    "    hashing_power, is_selfish = set_up_hash_distr(\n",
    "        net_p2p, centrality_measure, hash_distribution, number_selfish_nodes, number_honest_nodes, alpha)\n",
    "\n",
    "    return net_p2p, hashing_power, is_selfish"
   ]
  },
  {
   "cell_type": "code",
   "execution_count": 5,
   "metadata": {},
   "outputs": [],
   "source": [
    "def simulate(centrality_measure, topology, hash_distribution, number_of_nodes, number_selfish_nodes, alpha, desired_avg_degree, ba_m):\n",
    "    if alpha == 0:\n",
    "        net_p2p, hashing_power, is_selfish = set_up_model(\n",
    "            centrality_measure, topology, hash_distribution, number_of_nodes, number_selfish_nodes, 0, desired_avg_degree, ba_m\n",
    "        )\n",
    "    else:\n",
    "        net_p2p, hashing_power, is_selfish = set_up_model(\n",
    "            centrality_measure, topology, hash_distribution, number_of_nodes, number_selfish_nodes, alpha, desired_avg_degree, ba_m\n",
    "        )\n",
    "\n",
    "    model = blockchain.GillespieBlockchain(\n",
    "        net_p2p, is_selfish, hashing_power, gamma, verbose=verbose\n",
    "    )\n",
    "\n",
    "    while model.time < simulation_time:\n",
    "        model.next_event()\n",
    "    model.block_tree.tag_main_chain()\n",
    "    \n",
    "    return model"
   ]
  },
  {
   "cell_type": "code",
   "execution_count": null,
   "metadata": {},
   "outputs": [],
   "source": []
  },
  {
   "cell_type": "markdown",
   "metadata": {},
   "source": [
    "# Simulation"
   ]
  },
  {
   "cell_type": "code",
   "execution_count": 6,
   "metadata": {},
   "outputs": [],
   "source": [
    "model = simulate(centrality_measure, topology, hash_distribution, number_of_nodes, number_selfish_nodes, alpha, desired_avg_degree, ba_m)"
   ]
  },
  {
   "cell_type": "markdown",
   "metadata": {},
   "source": [
    "# Playground\n",
    "### You can play around and access everything from above simulation"
   ]
  },
  {
   "cell_type": "code",
   "execution_count": 7,
   "metadata": {},
   "outputs": [
    {
     "output_type": "execute_result",
     "data": {
      "text/plain": [
       "73"
      ]
     },
     "metadata": {},
     "execution_count": 7
    }
   ],
   "source": [
    "model.block_tree.max_height"
   ]
  },
  {
   "cell_type": "code",
   "execution_count": 8,
   "metadata": {},
   "outputs": [
    {
     "output_type": "execute_result",
     "data": {
      "text/plain": [
       "[0, 1, 2, 3, 4]"
      ]
     },
     "metadata": {},
     "execution_count": 8
    }
   ],
   "source": [
    "indexer = list(range(5))\n",
    "indexer"
   ]
  },
  {
   "cell_type": "code",
   "execution_count": 9,
   "metadata": {},
   "outputs": [
    {
     "output_type": "stream",
     "name": "stdout",
     "text": [
      "0.2 0.01\n0.2 0.1\n0.2 1\n0.4 0.01\n0.4 0.1\n0.4 1\n"
     ]
    }
   ],
   "source": [
    "alphas = [0.2, 0.4]\n",
    "gammas = [0.01,0.1,1]\n",
    "\n",
    "parameter_list = list(itertools.product(alphas, gammas))\n",
    "for parameters in parameter_list:\n",
    "    alpha, gamma = parameters\n",
    "    print(alpha, gamma)"
   ]
  },
  {
   "cell_type": "code",
   "execution_count": 10,
   "metadata": {},
   "outputs": [],
   "source": [
    "node_ids = []\n",
    "for node in model.nodes:\n",
    "    node_ids.append(node.id)\n",
    "\n",
    "is_selfish = list(model.is_selfish)\n",
    "hashing_power = model.hashing_power"
   ]
  },
  {
   "cell_type": "code",
   "execution_count": 11,
   "metadata": {},
   "outputs": [],
   "source": [
    "model.block_tree.tag_main_chain()\n",
    "num_blocks_mined_by = [0] * len(node_ids) # all blocks\n",
    "num_mc_blocks_mined_by = [0] * len(node_ids) # main chain\n",
    "num_oc_blocks_mined_by = [0] * len(node_ids) # off chain\n",
    "\n",
    "for block in model.block_tree.tree.nodes:\n",
    "    if model.block_tree.attributes[block][\"miner\"] == \"genesis\":\n",
    "        continue\n",
    "    miner = model.block_tree[block][\"miner\"]\n",
    "    if model.block_tree.attributes[block][\"main_chain\"]:\n",
    "        num_mc_blocks_mined_by[miner] += 1\n",
    "    else:\n",
    "        num_oc_blocks_mined_by[miner] += 1\n",
    "    num_blocks_mined_by[miner] += 1"
   ]
  },
  {
   "cell_type": "code",
   "execution_count": 12,
   "metadata": {},
   "outputs": [],
   "source": [
    "data_list = [node_ids, is_selfish, hashing_power, num_blocks_mined_by, num_mc_blocks_mined_by, num_oc_blocks_mined_by]\n",
    "columns = [\"node\", \"selfish\", \"hashing power\", \"total blocks\", \"mainchain blocks\", \"orphan blocks\"]\n",
    "\n",
    "df = pd.DataFrame(columns=columns)\n",
    "for (index, column) in enumerate(columns):\n",
    "    df[column] = data_list[index]"
   ]
  },
  {
   "cell_type": "code",
   "execution_count": null,
   "metadata": {},
   "outputs": [],
   "source": []
  },
  {
   "cell_type": "code",
   "execution_count": 15,
   "metadata": {},
   "outputs": [],
   "source": [
    "df[\"alpha\"] = 0.2"
   ]
  },
  {
   "cell_type": "code",
   "execution_count": 16,
   "metadata": {},
   "outputs": [
    {
     "output_type": "execute_result",
     "data": {
      "text/plain": [
       "    node  selfish  hashing power  total blocks  mainchain blocks  \\\n",
       "0      0      0.0       0.009618             0                 0   \n",
       "1      1      0.0       0.006873             0                 0   \n",
       "2      2      0.0       0.010891             2                 1   \n",
       "3      3      0.0       0.004296             1                 1   \n",
       "4      4      0.0       0.001208             0                 0   \n",
       "..   ...      ...            ...           ...               ...   \n",
       "95    95      0.0       0.005988             0                 0   \n",
       "96    96      0.0       0.001795             1                 0   \n",
       "97    97      0.0       0.000624             0                 0   \n",
       "98    98      0.0       0.012189             2                 2   \n",
       "99    99      0.0       0.010281             1                 1   \n",
       "\n",
       "    orphan blocks  alpha  \n",
       "0               0    0.2  \n",
       "1               0    0.2  \n",
       "2               1    0.2  \n",
       "3               0    0.2  \n",
       "4               0    0.2  \n",
       "..            ...    ...  \n",
       "95              0    0.2  \n",
       "96              1    0.2  \n",
       "97              0    0.2  \n",
       "98              0    0.2  \n",
       "99              0    0.2  \n",
       "\n",
       "[100 rows x 7 columns]"
      ],
      "text/html": "<div>\n<style scoped>\n    .dataframe tbody tr th:only-of-type {\n        vertical-align: middle;\n    }\n\n    .dataframe tbody tr th {\n        vertical-align: top;\n    }\n\n    .dataframe thead th {\n        text-align: right;\n    }\n</style>\n<table border=\"1\" class=\"dataframe\">\n  <thead>\n    <tr style=\"text-align: right;\">\n      <th></th>\n      <th>node</th>\n      <th>selfish</th>\n      <th>hashing power</th>\n      <th>total blocks</th>\n      <th>mainchain blocks</th>\n      <th>orphan blocks</th>\n      <th>alpha</th>\n    </tr>\n  </thead>\n  <tbody>\n    <tr>\n      <th>0</th>\n      <td>0</td>\n      <td>0.0</td>\n      <td>0.009618</td>\n      <td>0</td>\n      <td>0</td>\n      <td>0</td>\n      <td>0.2</td>\n    </tr>\n    <tr>\n      <th>1</th>\n      <td>1</td>\n      <td>0.0</td>\n      <td>0.006873</td>\n      <td>0</td>\n      <td>0</td>\n      <td>0</td>\n      <td>0.2</td>\n    </tr>\n    <tr>\n      <th>2</th>\n      <td>2</td>\n      <td>0.0</td>\n      <td>0.010891</td>\n      <td>2</td>\n      <td>1</td>\n      <td>1</td>\n      <td>0.2</td>\n    </tr>\n    <tr>\n      <th>3</th>\n      <td>3</td>\n      <td>0.0</td>\n      <td>0.004296</td>\n      <td>1</td>\n      <td>1</td>\n      <td>0</td>\n      <td>0.2</td>\n    </tr>\n    <tr>\n      <th>4</th>\n      <td>4</td>\n      <td>0.0</td>\n      <td>0.001208</td>\n      <td>0</td>\n      <td>0</td>\n      <td>0</td>\n      <td>0.2</td>\n    </tr>\n    <tr>\n      <th>...</th>\n      <td>...</td>\n      <td>...</td>\n      <td>...</td>\n      <td>...</td>\n      <td>...</td>\n      <td>...</td>\n      <td>...</td>\n    </tr>\n    <tr>\n      <th>95</th>\n      <td>95</td>\n      <td>0.0</td>\n      <td>0.005988</td>\n      <td>0</td>\n      <td>0</td>\n      <td>0</td>\n      <td>0.2</td>\n    </tr>\n    <tr>\n      <th>96</th>\n      <td>96</td>\n      <td>0.0</td>\n      <td>0.001795</td>\n      <td>1</td>\n      <td>0</td>\n      <td>1</td>\n      <td>0.2</td>\n    </tr>\n    <tr>\n      <th>97</th>\n      <td>97</td>\n      <td>0.0</td>\n      <td>0.000624</td>\n      <td>0</td>\n      <td>0</td>\n      <td>0</td>\n      <td>0.2</td>\n    </tr>\n    <tr>\n      <th>98</th>\n      <td>98</td>\n      <td>0.0</td>\n      <td>0.012189</td>\n      <td>2</td>\n      <td>2</td>\n      <td>0</td>\n      <td>0.2</td>\n    </tr>\n    <tr>\n      <th>99</th>\n      <td>99</td>\n      <td>0.0</td>\n      <td>0.010281</td>\n      <td>1</td>\n      <td>1</td>\n      <td>0</td>\n      <td>0.2</td>\n    </tr>\n  </tbody>\n</table>\n<p>100 rows × 7 columns</p>\n</div>"
     },
     "metadata": {},
     "execution_count": 16
    }
   ],
   "source": [
    "df"
   ]
  },
  {
   "cell_type": "code",
   "execution_count": null,
   "metadata": {},
   "outputs": [],
   "source": []
  }
 ],
 "metadata": {
  "kernelspec": {
   "display_name": "Python 3.7.6 64-bit",
   "language": "python",
   "name": "python37664bitf1f7cf62b47e4f109b07fbee7fbe52a7"
  },
  "language_info": {
   "codemirror_mode": {
    "name": "ipython",
    "version": 3
   },
   "file_extension": ".py",
   "mimetype": "text/x-python",
   "name": "python",
   "nbconvert_exporter": "python",
   "pygments_lexer": "ipython3",
   "version": "3.9.0-final"
  }
 },
 "nbformat": 4,
 "nbformat_minor": 2
}